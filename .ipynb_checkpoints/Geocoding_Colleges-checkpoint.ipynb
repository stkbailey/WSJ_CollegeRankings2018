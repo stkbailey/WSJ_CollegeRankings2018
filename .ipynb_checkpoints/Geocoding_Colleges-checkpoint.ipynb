{
 "cells": [
  {
   "cell_type": "markdown",
   "metadata": {
    "deletable": true,
    "editable": true
   },
   "source": [
    "## Getting Geo-coordinates for WSJ Colleges\n",
    "Here we are going to use a couple of Python tools to make a database of the Latitude / Longitude locations for the different schools contained in the report. I'm doing this to compare the speed and accuracy of the included Power BI ArcGIS maps with a hard-coding the coordinates. \n",
    "\n",
    "Our strategy is:\n",
    "- Create a search string using the college name and city.\n",
    "- Use `requests` to query Google Maps API.\n",
    "- Save the database as a new file.\n",
    "\n",
    "First, we read in the WSJ data and create a search string."
   ]
  },
  {
   "cell_type": "code",
   "execution_count": 10,
   "metadata": {
    "collapsed": false,
    "deletable": true,
    "editable": true
   },
   "outputs": [
    {
     "data": {
      "text/html": [
       "<div>\n",
       "<table border=\"1\" class=\"dataframe\">\n",
       "  <thead>\n",
       "    <tr style=\"text-align: right;\">\n",
       "      <th></th>\n",
       "      <th>rank</th>\n",
       "      <th>college</th>\n",
       "      <th>city_state</th>\n",
       "      <th>overall</th>\n",
       "      <th>outcome</th>\n",
       "      <th>resources</th>\n",
       "      <th>engagement</th>\n",
       "      <th>environment</th>\n",
       "      <th>right_choice</th>\n",
       "      <th>salary</th>\n",
       "      <th>default_rate</th>\n",
       "      <th>class</th>\n",
       "      <th>loc_string</th>\n",
       "    </tr>\n",
       "  </thead>\n",
       "  <tbody>\n",
       "    <tr>\n",
       "      <th>0</th>\n",
       "      <td>1</td>\n",
       "      <td>Harvard University</td>\n",
       "      <td>Cambridge, MA</td>\n",
       "      <td>91.9</td>\n",
       "      <td>39.5</td>\n",
       "      <td>29.8</td>\n",
       "      <td>15.6</td>\n",
       "      <td>7.0</td>\n",
       "      <td>9.09</td>\n",
       "      <td>91000</td>\n",
       "      <td>0.9</td>\n",
       "      <td>Private</td>\n",
       "      <td>Harvard University, Cambridge, MA, USA</td>\n",
       "    </tr>\n",
       "    <tr>\n",
       "      <th>1</th>\n",
       "      <td>2</td>\n",
       "      <td>Columbia University</td>\n",
       "      <td>New York, NY</td>\n",
       "      <td>90.6</td>\n",
       "      <td>39.0</td>\n",
       "      <td>27.0</td>\n",
       "      <td>16.1</td>\n",
       "      <td>7.8</td>\n",
       "      <td>8.06</td>\n",
       "      <td>74000</td>\n",
       "      <td>1.4</td>\n",
       "      <td>Private</td>\n",
       "      <td>Columbia University, New York, NY, USA</td>\n",
       "    </tr>\n",
       "    <tr>\n",
       "      <th>2</th>\n",
       "      <td>3</td>\n",
       "      <td>Massachusetts Institute of Technology</td>\n",
       "      <td>Cambridge, MA</td>\n",
       "      <td>90.4</td>\n",
       "      <td>38.2</td>\n",
       "      <td>29.2</td>\n",
       "      <td>15.8</td>\n",
       "      <td>7.2</td>\n",
       "      <td>9.11</td>\n",
       "      <td>90000</td>\n",
       "      <td>1.1</td>\n",
       "      <td>Private</td>\n",
       "      <td>Massachusetts Institute of Technology, Cambrid...</td>\n",
       "    </tr>\n",
       "    <tr>\n",
       "      <th>3</th>\n",
       "      <td>3</td>\n",
       "      <td>Stanford University</td>\n",
       "      <td>Stanford, CA</td>\n",
       "      <td>90.4</td>\n",
       "      <td>38.9</td>\n",
       "      <td>26.2</td>\n",
       "      <td>17.4</td>\n",
       "      <td>7.9</td>\n",
       "      <td>8.96</td>\n",
       "      <td>83000</td>\n",
       "      <td>0.8</td>\n",
       "      <td>Private</td>\n",
       "      <td>Stanford University, Stanford, CA, USA</td>\n",
       "    </tr>\n",
       "    <tr>\n",
       "      <th>4</th>\n",
       "      <td>5</td>\n",
       "      <td>Duke University</td>\n",
       "      <td>Durham, NC</td>\n",
       "      <td>90.2</td>\n",
       "      <td>39.5</td>\n",
       "      <td>26.7</td>\n",
       "      <td>17.2</td>\n",
       "      <td>6.8</td>\n",
       "      <td>9.19</td>\n",
       "      <td>77000</td>\n",
       "      <td>0.4</td>\n",
       "      <td>Private</td>\n",
       "      <td>Duke University, Durham, NC, USA</td>\n",
       "    </tr>\n",
       "  </tbody>\n",
       "</table>\n",
       "</div>"
      ],
      "text/plain": [
       "   rank                                college     city_state  overall  \\\n",
       "0     1                     Harvard University  Cambridge, MA     91.9   \n",
       "1     2                    Columbia University   New York, NY     90.6   \n",
       "2     3  Massachusetts Institute of Technology  Cambridge, MA     90.4   \n",
       "3     3                    Stanford University   Stanford, CA     90.4   \n",
       "4     5                        Duke University     Durham, NC     90.2   \n",
       "\n",
       "   outcome  resources  engagement  environment  right_choice  salary  \\\n",
       "0     39.5       29.8        15.6          7.0          9.09   91000   \n",
       "1     39.0       27.0        16.1          7.8          8.06   74000   \n",
       "2     38.2       29.2        15.8          7.2          9.11   90000   \n",
       "3     38.9       26.2        17.4          7.9          8.96   83000   \n",
       "4     39.5       26.7        17.2          6.8          9.19   77000   \n",
       "\n",
       "   default_rate    class                                         loc_string  \n",
       "0           0.9  Private             Harvard University, Cambridge, MA, USA  \n",
       "1           1.4  Private             Columbia University, New York, NY, USA  \n",
       "2           1.1  Private  Massachusetts Institute of Technology, Cambrid...  \n",
       "3           0.8  Private             Stanford University, Stanford, CA, USA  \n",
       "4           0.4  Private                   Duke University, Durham, NC, USA  "
      ]
     },
     "execution_count": 10,
     "metadata": {},
     "output_type": "execute_result"
    }
   ],
   "source": [
    "import pandas as pd\n",
    "\n",
    "wsj = pd.read_csv('wsj_data.csv')\n",
    "\n",
    "import os\n",
    "\n",
    "if os.path.exists('wsj_locs.csv'):\n",
    "    geodf = pd.read_csv('wsj_locs.csv', index_col='loc_string')\n",
    "else:\n",
    "    geodf = pd.DataFrame()\n",
    "    geodf.index.name = 'loc_string'\n",
    "    \n",
    "wsj.head()\n"
   ]
  },
  {
   "cell_type": "markdown",
   "metadata": {
    "deletable": true,
    "editable": true
   },
   "source": [
    "For each college, we're going to create a search string as if we were looking it up in Google Maps. It's important to include as much information as we have so that the location service doesn't get confused with institutions in other countries, for example."
   ]
  },
  {
   "cell_type": "code",
   "execution_count": 18,
   "metadata": {
    "collapsed": false
   },
   "outputs": [
    {
     "name": "stdout",
     "output_type": "stream",
     "text": [
      "0               Harvard University, Cambridge, MA, USA\n",
      "1               Columbia University, New York, NY, USA\n",
      "2    Massachusetts Institute of Technology, Cambrid...\n",
      "3               Stanford University, Stanford, CA, USA\n",
      "4                     Duke University, Durham, NC, USA\n",
      "Name: loc_string, dtype: object\n"
     ]
    }
   ],
   "source": [
    "overwrite_loc_string = None\n",
    "if overwrite_loc_string:\n",
    "    wsj['loc_string'] = wsj.apply(lambda s: '{}, {}, USA'.format(s.college, s.city_state), axis=1)\n",
    "    wsj.to_csv('wsj_data.csv', encoding='utf-8', index=None)\n",
    "\n",
    "print(wsj.loc_string[0:5])"
   ]
  },
  {
   "cell_type": "code",
   "execution_count": 3,
   "metadata": {
    "collapsed": false,
    "deletable": true,
    "editable": true
   },
   "outputs": [],
   "source": [
    "def getCoords(search_string):\n",
    "    '''Takes a search term, queries Google and returns the geocoordinates.'''\n",
    "    import requests\n",
    "    \n",
    "    try:\n",
    "        query = search_string.replace(' ', '+')\n",
    "        response = requests.get('https://maps.googleapis.com/maps/api/geocode/json?address={}'.format(query))\n",
    "        response_from_google = response.json()\n",
    "        \n",
    "        address = response_from_google['results'][0]['formatted_address']\n",
    "        latitude = response_from_google['results'][0]['geometry']['location']['lat']\n",
    "        longitude = response_from_google['results'][0]['geometry']['location']['lng']\n",
    "        \n",
    "        return pd.Series(name=search_string, \\\n",
    "                         data={'Address': address, 'Latitude': latitude, 'Longitude': longitude})\n",
    "    except:\n",
    "        return pd.Series(name=search_string, data={'Address': None, 'Latitude': None, 'Longitude': None})"
   ]
  },
  {
   "cell_type": "code",
   "execution_count": 21,
   "metadata": {
    "collapsed": false,
    "deletable": true,
    "editable": true
   },
   "outputs": [
    {
     "name": "stdout",
     "output_type": "stream",
     "text": [
      "Gonzaga University, Spokane, WA, USA \n",
      "\t\t  Address      502 E Boone Ave, Spokane, WA 99202, USA\n",
      "Latitude                                     47.6672\n",
      "Longitude                                   -117.402\n",
      "Name: Gonzaga University, Spokane, WA, USA, dtype: object\n",
      "Campbell University, Buies Creek, NC, USA \n",
      "\t\t  Address      143 Main St, Buies Creek, NC 27506, USA\n",
      "Latitude                                     35.4083\n",
      "Longitude                                   -78.7394\n",
      "Name: Campbell University, Buies Creek, NC, USA, dtype: object\n",
      "SUNY New Paltz, New Paltz NY, USA \n",
      "\t\t  Address      1 Hawk Dr, New Paltz, NY 12561, USA\n",
      "Latitude                                  41.739\n",
      "Longitude                               -74.0852\n",
      "Name: SUNY New Paltz, New Paltz NY, USA, dtype: object\n"
     ]
    }
   ],
   "source": [
    "for ind, school in wsj.loc_string.iteritems():\n",
    "    if (not school in geodf.index) or (geodf.loc[school, 'Address'] == None):\n",
    "        data = getCoords(school)\n",
    "        geodf.loc[school] = data\n",
    "        print(school, '\\n\\t\\t ', data)"
   ]
  },
  {
   "cell_type": "code",
   "execution_count": 22,
   "metadata": {
    "collapsed": true
   },
   "outputs": [],
   "source": [
    "geodf.to_csv('wsj_locs.csv', encoding='utf-8')\n"
   ]
  }
 ],
 "metadata": {
  "kernelspec": {
   "display_name": "Python [conda env:py3]",
   "language": "python",
   "name": "conda-env-py3-py"
  },
  "language_info": {
   "codemirror_mode": {
    "name": "ipython",
    "version": 3
   },
   "file_extension": ".py",
   "mimetype": "text/x-python",
   "name": "python",
   "nbconvert_exporter": "python",
   "pygments_lexer": "ipython3",
   "version": "3.6.0"
  }
 },
 "nbformat": 4,
 "nbformat_minor": 2
}
