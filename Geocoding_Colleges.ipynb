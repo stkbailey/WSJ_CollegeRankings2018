{
 "cells": [
  {
   "cell_type": "markdown",
   "metadata": {
    "deletable": true,
    "editable": true
   },
   "source": [
    "## Getting Geo-coordinates for WSJ Colleges\n",
    "Here we are going to use a couple of Python tools to make a database of the Latitude / Longitude locations for the different schools contained in the report. I'm doing this to compare the speed and accuracy of the included Power BI ArcGIS maps with a hard-coding the coordinates. \n",
    "\n",
    "Our strategy is:\n",
    "- Create a search string using the college name and city.\n",
    "- Use the **[Geopy](https://github.com/geopy/geopy)** package to query Google Maps for each address.\n",
    "- Map the addresses / coordinates to the existing database.\n",
    "- Save the database as a new file.\n",
    "\n",
    "First, we read in the WSJ data and create a search string."
   ]
  },
  {
   "cell_type": "code",
   "execution_count": 5,
   "metadata": {
    "collapsed": false,
    "deletable": true,
    "editable": true
   },
   "outputs": [
    {
     "data": {
      "text/html": [
       "<div>\n",
       "<table border=\"1\" class=\"dataframe\">\n",
       "  <thead>\n",
       "    <tr style=\"text-align: right;\">\n",
       "      <th></th>\n",
       "      <th>rank</th>\n",
       "      <th>college</th>\n",
       "      <th>city_state</th>\n",
       "      <th>overall</th>\n",
       "      <th>outcome</th>\n",
       "      <th>resources</th>\n",
       "      <th>engagement</th>\n",
       "      <th>environment</th>\n",
       "      <th>right_choice</th>\n",
       "      <th>salary</th>\n",
       "      <th>default_rate</th>\n",
       "      <th>class</th>\n",
       "    </tr>\n",
       "  </thead>\n",
       "  <tbody>\n",
       "    <tr>\n",
       "      <th>0</th>\n",
       "      <td>1</td>\n",
       "      <td>Harvard University</td>\n",
       "      <td>Cambridge, MA</td>\n",
       "      <td>91.9</td>\n",
       "      <td>39.5</td>\n",
       "      <td>29.8</td>\n",
       "      <td>15.6</td>\n",
       "      <td>7.0</td>\n",
       "      <td>9.09</td>\n",
       "      <td>91000</td>\n",
       "      <td>0.9</td>\n",
       "      <td>Private</td>\n",
       "    </tr>\n",
       "    <tr>\n",
       "      <th>1</th>\n",
       "      <td>2</td>\n",
       "      <td>Columbia University</td>\n",
       "      <td>New York, NY</td>\n",
       "      <td>90.6</td>\n",
       "      <td>39.0</td>\n",
       "      <td>27.0</td>\n",
       "      <td>16.1</td>\n",
       "      <td>7.8</td>\n",
       "      <td>8.06</td>\n",
       "      <td>74000</td>\n",
       "      <td>1.4</td>\n",
       "      <td>Private</td>\n",
       "    </tr>\n",
       "    <tr>\n",
       "      <th>2</th>\n",
       "      <td>3</td>\n",
       "      <td>Massachusetts Institute of Technology</td>\n",
       "      <td>Cambridge, MA</td>\n",
       "      <td>90.4</td>\n",
       "      <td>38.2</td>\n",
       "      <td>29.2</td>\n",
       "      <td>15.8</td>\n",
       "      <td>7.2</td>\n",
       "      <td>9.11</td>\n",
       "      <td>90000</td>\n",
       "      <td>1.1</td>\n",
       "      <td>Private</td>\n",
       "    </tr>\n",
       "    <tr>\n",
       "      <th>3</th>\n",
       "      <td>3</td>\n",
       "      <td>Stanford University</td>\n",
       "      <td>Stanford, CA</td>\n",
       "      <td>90.4</td>\n",
       "      <td>38.9</td>\n",
       "      <td>26.2</td>\n",
       "      <td>17.4</td>\n",
       "      <td>7.9</td>\n",
       "      <td>8.96</td>\n",
       "      <td>83000</td>\n",
       "      <td>0.8</td>\n",
       "      <td>Private</td>\n",
       "    </tr>\n",
       "    <tr>\n",
       "      <th>4</th>\n",
       "      <td>5</td>\n",
       "      <td>Duke University</td>\n",
       "      <td>Durham, NC</td>\n",
       "      <td>90.2</td>\n",
       "      <td>39.5</td>\n",
       "      <td>26.7</td>\n",
       "      <td>17.2</td>\n",
       "      <td>6.8</td>\n",
       "      <td>9.19</td>\n",
       "      <td>77000</td>\n",
       "      <td>0.4</td>\n",
       "      <td>Private</td>\n",
       "    </tr>\n",
       "  </tbody>\n",
       "</table>\n",
       "</div>"
      ],
      "text/plain": [
       "   rank                                college     city_state  overall  \\\n",
       "0     1                     Harvard University  Cambridge, MA     91.9   \n",
       "1     2                    Columbia University   New York, NY     90.6   \n",
       "2     3  Massachusetts Institute of Technology  Cambridge, MA     90.4   \n",
       "3     3                    Stanford University   Stanford, CA     90.4   \n",
       "4     5                        Duke University     Durham, NC     90.2   \n",
       "\n",
       "   outcome  resources  engagement  environment  right_choice  salary  \\\n",
       "0     39.5       29.8        15.6          7.0          9.09   91000   \n",
       "1     39.0       27.0        16.1          7.8          8.06   74000   \n",
       "2     38.2       29.2        15.8          7.2          9.11   90000   \n",
       "3     38.9       26.2        17.4          7.9          8.96   83000   \n",
       "4     39.5       26.7        17.2          6.8          9.19   77000   \n",
       "\n",
       "   default_rate    class  \n",
       "0           0.9  Private  \n",
       "1           1.4  Private  \n",
       "2           1.1  Private  \n",
       "3           0.8  Private  \n",
       "4           0.4  Private  "
      ]
     },
     "execution_count": 5,
     "metadata": {},
     "output_type": "execute_result"
    }
   ],
   "source": [
    "import pandas as pd\n",
    "\n",
    "wsj = pd.read_csv('wsj_data.csv')\n",
    "wsj.head()"
   ]
  },
  {
   "cell_type": "markdown",
   "metadata": {
    "deletable": true,
    "editable": true
   },
   "source": [
    "For each college, we're going to create a search string as if we were looking it up in Google Maps. It's important to include as much information as we have so that the location service doesn't get confused with institutions in other countries, for example."
   ]
  },
  {
   "cell_type": "code",
   "execution_count": 6,
   "metadata": {
    "collapsed": false,
    "deletable": true,
    "editable": true
   },
   "outputs": [
    {
     "data": {
      "text/plain": [
       "0               Harvard University, Cambridge, MA, USA\n",
       "1               Columbia University, New York, NY, USA\n",
       "2    Massachusetts Institute of Technology, Cambrid...\n",
       "3               Stanford University, Stanford, CA, USA\n",
       "4                     Duke University, Durham, NC, USA\n",
       "dtype: object"
      ]
     },
     "execution_count": 6,
     "metadata": {},
     "output_type": "execute_result"
    }
   ],
   "source": [
    "wsj['loc_string'] = wsj.apply(lambda s: '{}, {}, USA'.format(s.college, s.city_state), axis=1)\n",
    "wsj.loc_string[0:5]"
   ]
  },
  {
   "cell_type": "code",
   "execution_count": 10,
   "metadata": {
    "collapsed": false,
    "deletable": true,
    "editable": true
   },
   "outputs": [],
   "source": [
    "def getCoords(search_string):\n",
    "    '''Takes a search term, queries Google and returns the geocoordinates.'''\n",
    "    import requests\n",
    "    \n",
    "    try:\n",
    "        query = search_string.replace(' ', '+')\n",
    "        response = requests.get('https://maps.googleapis.com/maps/api/geocode/json?address={}'.format(query))\n",
    "        response_from_google = response.json()\n",
    "        \n",
    "        address = response_from_google['results'][0]['formatted_address']\n",
    "        latitude = response_from_google['results'][0]['geometry']['location']['lat']\n",
    "        longitude = response_from_google['results'][0]['geometry']['location']['lng']\n",
    "        \n",
    "        return pd.Series(name=search_string, \\\n",
    "                         data={'Address': address, 'Latitude': latitude, 'Longitude': longitude})\n",
    "    except:\n",
    "        return pd.Series(name=search_string, data={'Address': None, 'Latitude': None, 'Longitude': None})"
   ]
  },
  {
   "cell_type": "code",
   "execution_count": null,
   "metadata": {
    "collapsed": false,
    "deletable": true,
    "editable": true
   },
   "outputs": [],
   "source": [
    "geodf = pd.DataFrame()\n",
    "\n",
    "for school in search_string:\n",
    "    data = getCoords(school)\n",
    "    if type(data) == pd.core.series.Series:\n",
    "        geodf = geodf.append(data)"
   ]
  },
  {
   "cell_type": "code",
   "execution_count": null,
   "metadata": {
    "collapsed": true
   },
   "outputs": [],
   "source": [
    "wsj.to_csv('wsj_data.csv')\n",
    "geodf.to_csv('wsj_locs.csv')"
   ]
  }
 ],
 "metadata": {
  "kernelspec": {
   "display_name": "Python 3",
   "language": "python",
   "name": "python3"
  },
  "language_info": {
   "codemirror_mode": {
    "name": "ipython",
    "version": 3
   },
   "file_extension": ".py",
   "mimetype": "text/x-python",
   "name": "python",
   "nbconvert_exporter": "python",
   "pygments_lexer": "ipython3",
   "version": "3.6.0"
  }
 },
 "nbformat": 4,
 "nbformat_minor": 2
}
