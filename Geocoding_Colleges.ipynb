{
 "cells": [
  {
   "cell_type": "markdown",
   "metadata": {},
   "source": [
    "## Getting Geo-coordinates for WSJ Colleges\n",
    "Here we are going to use a couple of Python tools to make a database of the Latitude / Longitude locations for the different schools contained in the report. I'm doing this to compare the speed and accuracy of the included Power BI ArcGIS maps with a hard-coding the coordinates. \n",
    "\n",
    "Our strategy is:\n",
    "- Create a search string using the college name and city.\n",
    "- Use the **[Geopy](https://github.com/geopy/geopy)** package to query Google Maps for each address.\n",
    "- Map the addresses / coordinates to the existing database.\n",
    "- Save the database as a new file.\n",
    "\n",
    "First, we read in the WSJ data and create a search string."
   ]
  },
  {
   "cell_type": "code",
   "execution_count": 4,
   "metadata": {
    "collapsed": false
   },
   "outputs": [
    {
     "data": {
      "text/html": [
       "<div>\n",
       "<table border=\"1\" class=\"dataframe\">\n",
       "  <thead>\n",
       "    <tr style=\"text-align: right;\">\n",
       "      <th></th>\n",
       "      <th>rank</th>\n",
       "      <th>college</th>\n",
       "      <th>city_state</th>\n",
       "      <th>overall</th>\n",
       "      <th>outcome</th>\n",
       "      <th>resources</th>\n",
       "      <th>engagement</th>\n",
       "      <th>environment</th>\n",
       "      <th>right_choice</th>\n",
       "      <th>salary</th>\n",
       "      <th>default_rate</th>\n",
       "      <th>class</th>\n",
       "    </tr>\n",
       "  </thead>\n",
       "  <tbody>\n",
       "    <tr>\n",
       "      <th>0</th>\n",
       "      <td>1</td>\n",
       "      <td>Harvard University</td>\n",
       "      <td>Cambridge, MA</td>\n",
       "      <td>91.9</td>\n",
       "      <td>39.5</td>\n",
       "      <td>29.8</td>\n",
       "      <td>15.6</td>\n",
       "      <td>7.0</td>\n",
       "      <td>9.09</td>\n",
       "      <td>91000</td>\n",
       "      <td>0.9</td>\n",
       "      <td>Private</td>\n",
       "    </tr>\n",
       "    <tr>\n",
       "      <th>1</th>\n",
       "      <td>2</td>\n",
       "      <td>Columbia University</td>\n",
       "      <td>New York, NY</td>\n",
       "      <td>90.6</td>\n",
       "      <td>39.0</td>\n",
       "      <td>27.0</td>\n",
       "      <td>16.1</td>\n",
       "      <td>7.8</td>\n",
       "      <td>8.06</td>\n",
       "      <td>74000</td>\n",
       "      <td>1.4</td>\n",
       "      <td>Private</td>\n",
       "    </tr>\n",
       "    <tr>\n",
       "      <th>2</th>\n",
       "      <td>3</td>\n",
       "      <td>Massachusetts Institute of Technology</td>\n",
       "      <td>Cambridge, MA</td>\n",
       "      <td>90.4</td>\n",
       "      <td>38.2</td>\n",
       "      <td>29.2</td>\n",
       "      <td>15.8</td>\n",
       "      <td>7.2</td>\n",
       "      <td>9.11</td>\n",
       "      <td>90000</td>\n",
       "      <td>1.1</td>\n",
       "      <td>Private</td>\n",
       "    </tr>\n",
       "    <tr>\n",
       "      <th>3</th>\n",
       "      <td>3</td>\n",
       "      <td>Stanford University</td>\n",
       "      <td>Stanford, CA</td>\n",
       "      <td>90.4</td>\n",
       "      <td>38.9</td>\n",
       "      <td>26.2</td>\n",
       "      <td>17.4</td>\n",
       "      <td>7.9</td>\n",
       "      <td>8.96</td>\n",
       "      <td>83000</td>\n",
       "      <td>0.8</td>\n",
       "      <td>Private</td>\n",
       "    </tr>\n",
       "    <tr>\n",
       "      <th>4</th>\n",
       "      <td>5</td>\n",
       "      <td>Duke University</td>\n",
       "      <td>Durham, NC</td>\n",
       "      <td>90.2</td>\n",
       "      <td>39.5</td>\n",
       "      <td>26.7</td>\n",
       "      <td>17.2</td>\n",
       "      <td>6.8</td>\n",
       "      <td>9.19</td>\n",
       "      <td>77000</td>\n",
       "      <td>0.4</td>\n",
       "      <td>Private</td>\n",
       "    </tr>\n",
       "  </tbody>\n",
       "</table>\n",
       "</div>"
      ],
      "text/plain": [
       "   rank                                college     city_state  overall  \\\n",
       "0     1                     Harvard University  Cambridge, MA     91.9   \n",
       "1     2                    Columbia University   New York, NY     90.6   \n",
       "2     3  Massachusetts Institute of Technology  Cambridge, MA     90.4   \n",
       "3     3                    Stanford University   Stanford, CA     90.4   \n",
       "4     5                        Duke University     Durham, NC     90.2   \n",
       "\n",
       "   outcome  resources  engagement  environment  right_choice  salary  \\\n",
       "0     39.5       29.8        15.6          7.0          9.09   91000   \n",
       "1     39.0       27.0        16.1          7.8          8.06   74000   \n",
       "2     38.2       29.2        15.8          7.2          9.11   90000   \n",
       "3     38.9       26.2        17.4          7.9          8.96   83000   \n",
       "4     39.5       26.7        17.2          6.8          9.19   77000   \n",
       "\n",
       "   default_rate    class  \n",
       "0           0.9  Private  \n",
       "1           1.4  Private  \n",
       "2           1.1  Private  \n",
       "3           0.8  Private  \n",
       "4           0.4  Private  "
      ]
     },
     "execution_count": 4,
     "metadata": {},
     "output_type": "execute_result"
    }
   ],
   "source": [
    "import pandas as pd\n",
    "\n",
    "wsj = pd.read_excel('wsj_data.xlsx')\n",
    "wsj.head()"
   ]
  },
  {
   "cell_type": "markdown",
   "metadata": {},
   "source": [
    "For each college, we're going to create a search string as if we were looking it up in Google Maps. It's important to include as much information as we have so that the location service doesn't get confused with institutions in other countries, for example."
   ]
  },
  {
   "cell_type": "code",
   "execution_count": 8,
   "metadata": {
    "collapsed": false
   },
   "outputs": [
    {
     "data": {
      "text/plain": [
       "0               Harvard University, Cambridge, MA, USA\n",
       "1               Columbia University, New York, NY, USA\n",
       "2    Massachusetts Institute of Technology, Cambrid...\n",
       "3               Stanford University, Stanford, CA, USA\n",
       "4                     Duke University, Durham, NC, USA\n",
       "dtype: object"
      ]
     },
     "execution_count": 8,
     "metadata": {},
     "output_type": "execute_result"
    }
   ],
   "source": [
    "search_string = wsj.apply(lambda s: '{}, {}, USA'.format(s.college, s.city_state), axis=1)\n",
    "search_string[0:5]"
   ]
  },
  {
   "cell_type": "code",
   "execution_count": 9,
   "metadata": {
    "collapsed": true
   },
   "outputs": [],
   "source": [
    "import requests\n",
    "\n",
    "api_request = 'https://maps.googleapis.com/maps/api/geocode/json?address={}'.format(search_string[0].replace(' ', '+'))\n",
    "response = requests.get(api_request)\n",
    "\n",
    "response_from_google = response.json()"
   ]
  },
  {
   "cell_type": "code",
   "execution_count": 12,
   "metadata": {
    "collapsed": false
   },
   "outputs": [
    {
     "data": {
      "text/plain": [
       "'https://maps.googleapis.com/maps/api/geocode/json?address=Harvard+University,+Cambridge,+MA,+USA'"
      ]
     },
     "execution_count": 12,
     "metadata": {},
     "output_type": "execute_result"
    }
   ],
   "source": [
    "api_request"
   ]
  },
  {
   "cell_type": "code",
   "execution_count": 13,
   "metadata": {
    "collapsed": false
   },
   "outputs": [
    {
     "ename": "ModuleNotFoundError",
     "evalue": "No module named 'geopy'",
     "output_type": "error",
     "traceback": [
      "\u001b[1;31m---------------------------------------------------------------------------\u001b[0m",
      "\u001b[1;31mModuleNotFoundError\u001b[0m                       Traceback (most recent call last)",
      "\u001b[1;32m<ipython-input-13-1ba2aedaf54e>\u001b[0m in \u001b[0;36m<module>\u001b[1;34m()\u001b[0m\n\u001b[1;32m----> 1\u001b[1;33m \u001b[1;32mfrom\u001b[0m \u001b[0mgeopy\u001b[0m\u001b[1;33m.\u001b[0m\u001b[0mgeocoders\u001b[0m \u001b[1;32mimport\u001b[0m \u001b[0mNominatim\u001b[0m\u001b[1;33m\u001b[0m\u001b[0m\n\u001b[0m\u001b[0;32m      2\u001b[0m \u001b[0mgeolocator\u001b[0m \u001b[1;33m=\u001b[0m \u001b[0mNominatim\u001b[0m\u001b[1;33m(\u001b[0m\u001b[1;33m)\u001b[0m\u001b[1;33m\u001b[0m\u001b[0m\n\u001b[0;32m      3\u001b[0m \u001b[0mlocation\u001b[0m \u001b[1;33m=\u001b[0m \u001b[0mgeolocator\u001b[0m\u001b[1;33m.\u001b[0m\u001b[0mgeocode\u001b[0m\u001b[1;33m(\u001b[0m\u001b[1;34m\"Apollo Middle School, Nashville TN 37209\"\u001b[0m\u001b[1;33m)\u001b[0m\u001b[1;33m\u001b[0m\u001b[0m\n\u001b[0;32m      4\u001b[0m \u001b[0mprint\u001b[0m\u001b[1;33m(\u001b[0m\u001b[0mlocation\u001b[0m\u001b[1;33m.\u001b[0m\u001b[0maddress\u001b[0m\u001b[1;33m)\u001b[0m\u001b[1;33m\u001b[0m\u001b[0m\n\u001b[0;32m      5\u001b[0m \u001b[0mprint\u001b[0m\u001b[1;33m(\u001b[0m\u001b[1;33m(\u001b[0m\u001b[0mlocation\u001b[0m\u001b[1;33m.\u001b[0m\u001b[0mlatitude\u001b[0m\u001b[1;33m,\u001b[0m \u001b[0mlocation\u001b[0m\u001b[1;33m.\u001b[0m\u001b[0mlongitude\u001b[0m\u001b[1;33m)\u001b[0m\u001b[1;33m)\u001b[0m\u001b[1;33m\u001b[0m\u001b[0m\n",
      "\u001b[1;31mModuleNotFoundError\u001b[0m: No module named 'geopy'"
     ]
    }
   ],
   "source": [
    "from geopy.geocoders import Nominatim\n",
    "geolocator = Nominatim()\n",
    "location = geolocator.geocode(\"Apollo Middle School, Nashville TN 37209\")\n",
    "print(location.address)\n",
    "print((location.latitude, location.longitude))\n",
    "print(location.raw)"
   ]
  }
 ],
 "metadata": {
  "kernelspec": {
   "display_name": "Python [conda env:py3]",
   "language": "python",
   "name": "conda-env-py3-py"
  },
  "language_info": {
   "codemirror_mode": {
    "name": "ipython",
    "version": 3
   },
   "file_extension": ".py",
   "mimetype": "text/x-python",
   "name": "python",
   "nbconvert_exporter": "python",
   "pygments_lexer": "ipython3",
   "version": "3.6.0"
  }
 },
 "nbformat": 4,
 "nbformat_minor": 2
}
